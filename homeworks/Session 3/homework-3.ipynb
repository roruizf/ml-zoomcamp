{
 "cells": [
  {
   "cell_type": "markdown",
   "metadata": {},
   "source": [
    "## Session #3 Homework"
   ]
  },
  {
   "cell_type": "markdown",
   "metadata": {},
   "source": [
    "### Dataset\n",
    "\n",
    "In this homework, we will use the California Housing Prices data from [Kaggle](https://www.kaggle.com/datasets/camnugent/california-housing-prices).\n",
    "\n",
    "Here's a wget-able link:"
   ]
  },
  {
   "cell_type": "code",
   "execution_count": 1,
   "metadata": {},
   "outputs": [
    {
     "name": "stdout",
     "output_type": "stream",
     "text": [
      "--2022-09-25 17:34:38--  https://raw.githubusercontent.com/alexeygrigorev/datasets/master/housing.csv\n",
      "Resolving raw.githubusercontent.com (raw.githubusercontent.com)... 185.199.109.133, 185.199.111.133, 185.199.108.133, ...\n",
      "Connecting to raw.githubusercontent.com (raw.githubusercontent.com)|185.199.109.133|:443... connected.\n",
      "HTTP request sent, awaiting response... 200 OK\n",
      "Length: 1423529 (1.4M) [text/plain]\n",
      "Saving to: ‘housing.csv.1’\n",
      "\n",
      "housing.csv.1       100%[===================>]   1.36M  8.22MB/s    in 0.2s    \n",
      "\n",
      "2022-09-25 17:34:39 (8.22 MB/s) - ‘housing.csv.1’ saved [1423529/1423529]\n",
      "\n"
     ]
    }
   ],
   "source": [
    "!wget https://raw.githubusercontent.com/alexeygrigorev/datasets/master/housing.csv"
   ]
  },
  {
   "cell_type": "code",
   "execution_count": 2,
   "metadata": {},
   "outputs": [],
   "source": [
    "import numpy as np\n",
    "import pandas as pd\n",
    "import matplotlib.pyplot as plt\n",
    "import seaborn as sns\n",
    "from sklearn.model_selection import train_test_split"
   ]
  },
  {
   "cell_type": "markdown",
   "metadata": {},
   "source": [
    "### Features\n",
    "\n",
    "For the rest of the homework, you'll need to use only these columns:\n",
    "\n",
    "* `'latitude'`,\n",
    "* `'longitude'`,\n",
    "* `'housing_median_age'`,\n",
    "* `'total_rooms'`,\n",
    "* `'total_bedrooms'`,\n",
    "* `'population'`,\n",
    "* `'households'`,\n",
    "* `'median_income'`,\n",
    "* `'median_house_value'`\n",
    "* `'ocean_proximity'`"
   ]
  },
  {
   "cell_type": "code",
   "execution_count": 3,
   "metadata": {},
   "outputs": [
    {
     "data": {
      "text/html": [
       "<div>\n",
       "<style scoped>\n",
       "    .dataframe tbody tr th:only-of-type {\n",
       "        vertical-align: middle;\n",
       "    }\n",
       "\n",
       "    .dataframe tbody tr th {\n",
       "        vertical-align: top;\n",
       "    }\n",
       "\n",
       "    .dataframe thead th {\n",
       "        text-align: right;\n",
       "    }\n",
       "</style>\n",
       "<table border=\"1\" class=\"dataframe\">\n",
       "  <thead>\n",
       "    <tr style=\"text-align: right;\">\n",
       "      <th></th>\n",
       "      <th>longitude</th>\n",
       "      <th>latitude</th>\n",
       "      <th>housing_median_age</th>\n",
       "      <th>total_rooms</th>\n",
       "      <th>total_bedrooms</th>\n",
       "      <th>population</th>\n",
       "      <th>households</th>\n",
       "      <th>median_income</th>\n",
       "      <th>median_house_value</th>\n",
       "      <th>ocean_proximity</th>\n",
       "    </tr>\n",
       "  </thead>\n",
       "  <tbody>\n",
       "    <tr>\n",
       "      <th>0</th>\n",
       "      <td>-122.23</td>\n",
       "      <td>37.88</td>\n",
       "      <td>41.0</td>\n",
       "      <td>880.0</td>\n",
       "      <td>129.0</td>\n",
       "      <td>322.0</td>\n",
       "      <td>126.0</td>\n",
       "      <td>8.3252</td>\n",
       "      <td>452600.0</td>\n",
       "      <td>NEAR BAY</td>\n",
       "    </tr>\n",
       "    <tr>\n",
       "      <th>1</th>\n",
       "      <td>-122.22</td>\n",
       "      <td>37.86</td>\n",
       "      <td>21.0</td>\n",
       "      <td>7099.0</td>\n",
       "      <td>1106.0</td>\n",
       "      <td>2401.0</td>\n",
       "      <td>1138.0</td>\n",
       "      <td>8.3014</td>\n",
       "      <td>358500.0</td>\n",
       "      <td>NEAR BAY</td>\n",
       "    </tr>\n",
       "    <tr>\n",
       "      <th>2</th>\n",
       "      <td>-122.24</td>\n",
       "      <td>37.85</td>\n",
       "      <td>52.0</td>\n",
       "      <td>1467.0</td>\n",
       "      <td>190.0</td>\n",
       "      <td>496.0</td>\n",
       "      <td>177.0</td>\n",
       "      <td>7.2574</td>\n",
       "      <td>352100.0</td>\n",
       "      <td>NEAR BAY</td>\n",
       "    </tr>\n",
       "    <tr>\n",
       "      <th>3</th>\n",
       "      <td>-122.25</td>\n",
       "      <td>37.85</td>\n",
       "      <td>52.0</td>\n",
       "      <td>1274.0</td>\n",
       "      <td>235.0</td>\n",
       "      <td>558.0</td>\n",
       "      <td>219.0</td>\n",
       "      <td>5.6431</td>\n",
       "      <td>341300.0</td>\n",
       "      <td>NEAR BAY</td>\n",
       "    </tr>\n",
       "    <tr>\n",
       "      <th>4</th>\n",
       "      <td>-122.25</td>\n",
       "      <td>37.85</td>\n",
       "      <td>52.0</td>\n",
       "      <td>1627.0</td>\n",
       "      <td>280.0</td>\n",
       "      <td>565.0</td>\n",
       "      <td>259.0</td>\n",
       "      <td>3.8462</td>\n",
       "      <td>342200.0</td>\n",
       "      <td>NEAR BAY</td>\n",
       "    </tr>\n",
       "  </tbody>\n",
       "</table>\n",
       "</div>"
      ],
      "text/plain": [
       "   longitude  latitude  housing_median_age  total_rooms  total_bedrooms  \\\n",
       "0    -122.23     37.88                41.0        880.0           129.0   \n",
       "1    -122.22     37.86                21.0       7099.0          1106.0   \n",
       "2    -122.24     37.85                52.0       1467.0           190.0   \n",
       "3    -122.25     37.85                52.0       1274.0           235.0   \n",
       "4    -122.25     37.85                52.0       1627.0           280.0   \n",
       "\n",
       "   population  households  median_income  median_house_value ocean_proximity  \n",
       "0       322.0       126.0         8.3252            452600.0        NEAR BAY  \n",
       "1      2401.0      1138.0         8.3014            358500.0        NEAR BAY  \n",
       "2       496.0       177.0         7.2574            352100.0        NEAR BAY  \n",
       "3       558.0       219.0         5.6431            341300.0        NEAR BAY  \n",
       "4       565.0       259.0         3.8462            342200.0        NEAR BAY  "
      ]
     },
     "execution_count": 3,
     "metadata": {},
     "output_type": "execute_result"
    }
   ],
   "source": [
    "df = pd.read_csv('./housing.csv')\n",
    "df.head()"
   ]
  },
  {
   "cell_type": "markdown",
   "metadata": {},
   "source": [
    "### Data preparation\n",
    "\n",
    "* Select only the features from above and fill in the missing values with 0.\n",
    "* Create a new column `rooms_per_household` by dividing the column `total_rooms` by the column `households` from dataframe. \n",
    "* Create a new column `bedrooms_per_room` by dividing the column `total_bedrooms` by the column `total_rooms` from dataframe. \n",
    "* Create a new column `population_per_household` by dividing the column `population` by the column `households` from dataframe. "
   ]
  },
  {
   "cell_type": "code",
   "execution_count": 4,
   "metadata": {},
   "outputs": [],
   "source": [
    "df = df.fillna(0)\n",
    "df['rooms_per_household'] = df['total_rooms'] / df['households']\n",
    "df['bedrooms_per_room'] = df['total_bedrooms'] / df['total_rooms']\n",
    "df['population_per_household'] = df['population'] / df['households']"
   ]
  },
  {
   "cell_type": "code",
   "execution_count": 5,
   "metadata": {},
   "outputs": [
    {
     "data": {
      "text/html": [
       "<div>\n",
       "<style scoped>\n",
       "    .dataframe tbody tr th:only-of-type {\n",
       "        vertical-align: middle;\n",
       "    }\n",
       "\n",
       "    .dataframe tbody tr th {\n",
       "        vertical-align: top;\n",
       "    }\n",
       "\n",
       "    .dataframe thead th {\n",
       "        text-align: right;\n",
       "    }\n",
       "</style>\n",
       "<table border=\"1\" class=\"dataframe\">\n",
       "  <thead>\n",
       "    <tr style=\"text-align: right;\">\n",
       "      <th></th>\n",
       "      <th>count</th>\n",
       "      <th>mean</th>\n",
       "      <th>std</th>\n",
       "      <th>min</th>\n",
       "      <th>25%</th>\n",
       "      <th>50%</th>\n",
       "      <th>75%</th>\n",
       "      <th>max</th>\n",
       "    </tr>\n",
       "  </thead>\n",
       "  <tbody>\n",
       "    <tr>\n",
       "      <th>longitude</th>\n",
       "      <td>20640.0</td>\n",
       "      <td>-119.569704</td>\n",
       "      <td>2.003532</td>\n",
       "      <td>-124.350000</td>\n",
       "      <td>-121.800000</td>\n",
       "      <td>-118.490000</td>\n",
       "      <td>-118.010000</td>\n",
       "      <td>-114.310000</td>\n",
       "    </tr>\n",
       "    <tr>\n",
       "      <th>latitude</th>\n",
       "      <td>20640.0</td>\n",
       "      <td>35.631861</td>\n",
       "      <td>2.135952</td>\n",
       "      <td>32.540000</td>\n",
       "      <td>33.930000</td>\n",
       "      <td>34.260000</td>\n",
       "      <td>37.710000</td>\n",
       "      <td>41.950000</td>\n",
       "    </tr>\n",
       "    <tr>\n",
       "      <th>housing_median_age</th>\n",
       "      <td>20640.0</td>\n",
       "      <td>28.639486</td>\n",
       "      <td>12.585558</td>\n",
       "      <td>1.000000</td>\n",
       "      <td>18.000000</td>\n",
       "      <td>29.000000</td>\n",
       "      <td>37.000000</td>\n",
       "      <td>52.000000</td>\n",
       "    </tr>\n",
       "    <tr>\n",
       "      <th>total_rooms</th>\n",
       "      <td>20640.0</td>\n",
       "      <td>2635.763081</td>\n",
       "      <td>2181.615252</td>\n",
       "      <td>2.000000</td>\n",
       "      <td>1447.750000</td>\n",
       "      <td>2127.000000</td>\n",
       "      <td>3148.000000</td>\n",
       "      <td>39320.000000</td>\n",
       "    </tr>\n",
       "    <tr>\n",
       "      <th>total_bedrooms</th>\n",
       "      <td>20640.0</td>\n",
       "      <td>532.476211</td>\n",
       "      <td>422.678333</td>\n",
       "      <td>0.000000</td>\n",
       "      <td>292.000000</td>\n",
       "      <td>431.000000</td>\n",
       "      <td>643.250000</td>\n",
       "      <td>6445.000000</td>\n",
       "    </tr>\n",
       "    <tr>\n",
       "      <th>population</th>\n",
       "      <td>20640.0</td>\n",
       "      <td>1425.476744</td>\n",
       "      <td>1132.462122</td>\n",
       "      <td>3.000000</td>\n",
       "      <td>787.000000</td>\n",
       "      <td>1166.000000</td>\n",
       "      <td>1725.000000</td>\n",
       "      <td>35682.000000</td>\n",
       "    </tr>\n",
       "    <tr>\n",
       "      <th>households</th>\n",
       "      <td>20640.0</td>\n",
       "      <td>499.539680</td>\n",
       "      <td>382.329753</td>\n",
       "      <td>1.000000</td>\n",
       "      <td>280.000000</td>\n",
       "      <td>409.000000</td>\n",
       "      <td>605.000000</td>\n",
       "      <td>6082.000000</td>\n",
       "    </tr>\n",
       "    <tr>\n",
       "      <th>median_income</th>\n",
       "      <td>20640.0</td>\n",
       "      <td>3.870671</td>\n",
       "      <td>1.899822</td>\n",
       "      <td>0.499900</td>\n",
       "      <td>2.563400</td>\n",
       "      <td>3.534800</td>\n",
       "      <td>4.743250</td>\n",
       "      <td>15.000100</td>\n",
       "    </tr>\n",
       "    <tr>\n",
       "      <th>median_house_value</th>\n",
       "      <td>20640.0</td>\n",
       "      <td>206855.816909</td>\n",
       "      <td>115395.615874</td>\n",
       "      <td>14999.000000</td>\n",
       "      <td>119600.000000</td>\n",
       "      <td>179700.000000</td>\n",
       "      <td>264725.000000</td>\n",
       "      <td>500001.000000</td>\n",
       "    </tr>\n",
       "    <tr>\n",
       "      <th>rooms_per_household</th>\n",
       "      <td>20640.0</td>\n",
       "      <td>5.429000</td>\n",
       "      <td>2.474173</td>\n",
       "      <td>0.846154</td>\n",
       "      <td>4.440716</td>\n",
       "      <td>5.229129</td>\n",
       "      <td>6.052381</td>\n",
       "      <td>141.909091</td>\n",
       "    </tr>\n",
       "    <tr>\n",
       "      <th>bedrooms_per_room</th>\n",
       "      <td>20640.0</td>\n",
       "      <td>0.210902</td>\n",
       "      <td>0.061473</td>\n",
       "      <td>0.000000</td>\n",
       "      <td>0.174539</td>\n",
       "      <td>0.202626</td>\n",
       "      <td>0.239273</td>\n",
       "      <td>1.000000</td>\n",
       "    </tr>\n",
       "    <tr>\n",
       "      <th>population_per_household</th>\n",
       "      <td>20640.0</td>\n",
       "      <td>3.070655</td>\n",
       "      <td>10.386050</td>\n",
       "      <td>0.692308</td>\n",
       "      <td>2.429741</td>\n",
       "      <td>2.818116</td>\n",
       "      <td>3.282261</td>\n",
       "      <td>1243.333333</td>\n",
       "    </tr>\n",
       "  </tbody>\n",
       "</table>\n",
       "</div>"
      ],
      "text/plain": [
       "                            count           mean            std           min  \\\n",
       "longitude                 20640.0    -119.569704       2.003532   -124.350000   \n",
       "latitude                  20640.0      35.631861       2.135952     32.540000   \n",
       "housing_median_age        20640.0      28.639486      12.585558      1.000000   \n",
       "total_rooms               20640.0    2635.763081    2181.615252      2.000000   \n",
       "total_bedrooms            20640.0     532.476211     422.678333      0.000000   \n",
       "population                20640.0    1425.476744    1132.462122      3.000000   \n",
       "households                20640.0     499.539680     382.329753      1.000000   \n",
       "median_income             20640.0       3.870671       1.899822      0.499900   \n",
       "median_house_value        20640.0  206855.816909  115395.615874  14999.000000   \n",
       "rooms_per_household       20640.0       5.429000       2.474173      0.846154   \n",
       "bedrooms_per_room         20640.0       0.210902       0.061473      0.000000   \n",
       "population_per_household  20640.0       3.070655      10.386050      0.692308   \n",
       "\n",
       "                                    25%            50%            75%  \\\n",
       "longitude                   -121.800000    -118.490000    -118.010000   \n",
       "latitude                      33.930000      34.260000      37.710000   \n",
       "housing_median_age            18.000000      29.000000      37.000000   \n",
       "total_rooms                 1447.750000    2127.000000    3148.000000   \n",
       "total_bedrooms               292.000000     431.000000     643.250000   \n",
       "population                   787.000000    1166.000000    1725.000000   \n",
       "households                   280.000000     409.000000     605.000000   \n",
       "median_income                  2.563400       3.534800       4.743250   \n",
       "median_house_value        119600.000000  179700.000000  264725.000000   \n",
       "rooms_per_household            4.440716       5.229129       6.052381   \n",
       "bedrooms_per_room              0.174539       0.202626       0.239273   \n",
       "population_per_household       2.429741       2.818116       3.282261   \n",
       "\n",
       "                                    max  \n",
       "longitude                   -114.310000  \n",
       "latitude                      41.950000  \n",
       "housing_median_age            52.000000  \n",
       "total_rooms                39320.000000  \n",
       "total_bedrooms              6445.000000  \n",
       "population                 35682.000000  \n",
       "households                  6082.000000  \n",
       "median_income                 15.000100  \n",
       "median_house_value        500001.000000  \n",
       "rooms_per_household          141.909091  \n",
       "bedrooms_per_room              1.000000  \n",
       "population_per_household    1243.333333  "
      ]
     },
     "execution_count": 5,
     "metadata": {},
     "output_type": "execute_result"
    }
   ],
   "source": [
    "df.describe().T"
   ]
  },
  {
   "cell_type": "markdown",
   "metadata": {},
   "source": [
    "### Question 1\n",
    "\n",
    "What is the most frequent observation (mode) for the column `ocean_proximity`?\n",
    "\n",
    "Options:\n",
    "* `NEAR BAY`\n",
    "* `<1H OCEAN`\n",
    "* `INLAND`\n",
    "* `NEAR OCEAN`"
   ]
  },
  {
   "cell_type": "code",
   "execution_count": 6,
   "metadata": {},
   "outputs": [
    {
     "data": {
      "text/plain": [
       "<1H OCEAN     9136\n",
       "INLAND        6551\n",
       "NEAR OCEAN    2658\n",
       "NEAR BAY      2290\n",
       "ISLAND           5\n",
       "Name: ocean_proximity, dtype: int64"
      ]
     },
     "execution_count": 6,
     "metadata": {},
     "output_type": "execute_result"
    }
   ],
   "source": [
    "df['ocean_proximity'].value_counts(dropna=False)"
   ]
  },
  {
   "cell_type": "markdown",
   "metadata": {},
   "source": [
    "### Question 2\n",
    "\n",
    "* Create the [correlation matrix](https://www.google.com/search?q=correlation+matrix) for the numerical features of your train dataset.\n",
    "    - In a correlation matrix, you compute the correlation coefficient between every pair of features in the dataset.\n",
    "* What are the two features that have the biggest correlation in this dataset?\n",
    "\n",
    "Options:\n",
    "* `total_bedrooms` and `households`\n",
    "* `total_bedrooms` and `total_rooms`\n",
    "* `population` and `households`\n",
    "* `population_per_household` and `total_rooms`"
   ]
  },
  {
   "cell_type": "code",
   "execution_count": 7,
   "metadata": {},
   "outputs": [
    {
     "data": {
      "text/html": [
       "<div>\n",
       "<style scoped>\n",
       "    .dataframe tbody tr th:only-of-type {\n",
       "        vertical-align: middle;\n",
       "    }\n",
       "\n",
       "    .dataframe tbody tr th {\n",
       "        vertical-align: top;\n",
       "    }\n",
       "\n",
       "    .dataframe thead th {\n",
       "        text-align: right;\n",
       "    }\n",
       "</style>\n",
       "<table border=\"1\" class=\"dataframe\">\n",
       "  <thead>\n",
       "    <tr style=\"text-align: right;\">\n",
       "      <th></th>\n",
       "      <th>longitude</th>\n",
       "      <th>latitude</th>\n",
       "      <th>housing_median_age</th>\n",
       "      <th>total_rooms</th>\n",
       "      <th>total_bedrooms</th>\n",
       "      <th>population</th>\n",
       "      <th>households</th>\n",
       "      <th>median_income</th>\n",
       "      <th>median_house_value</th>\n",
       "      <th>rooms_per_household</th>\n",
       "      <th>bedrooms_per_room</th>\n",
       "      <th>population_per_household</th>\n",
       "    </tr>\n",
       "  </thead>\n",
       "  <tbody>\n",
       "    <tr>\n",
       "      <th>longitude</th>\n",
       "      <td>1.000000</td>\n",
       "      <td>-0.924664</td>\n",
       "      <td>-0.108197</td>\n",
       "      <td>0.044568</td>\n",
       "      <td>0.068082</td>\n",
       "      <td>0.099773</td>\n",
       "      <td>0.055310</td>\n",
       "      <td>-0.015176</td>\n",
       "      <td>-0.045967</td>\n",
       "      <td>-0.027540</td>\n",
       "      <td>0.084836</td>\n",
       "      <td>0.002476</td>\n",
       "    </tr>\n",
       "    <tr>\n",
       "      <th>latitude</th>\n",
       "      <td>-0.924664</td>\n",
       "      <td>1.000000</td>\n",
       "      <td>0.011173</td>\n",
       "      <td>-0.036100</td>\n",
       "      <td>-0.065318</td>\n",
       "      <td>-0.108785</td>\n",
       "      <td>-0.071035</td>\n",
       "      <td>-0.079809</td>\n",
       "      <td>-0.144160</td>\n",
       "      <td>0.106389</td>\n",
       "      <td>-0.104112</td>\n",
       "      <td>0.002366</td>\n",
       "    </tr>\n",
       "    <tr>\n",
       "      <th>housing_median_age</th>\n",
       "      <td>-0.108197</td>\n",
       "      <td>0.011173</td>\n",
       "      <td>1.000000</td>\n",
       "      <td>-0.361262</td>\n",
       "      <td>-0.317063</td>\n",
       "      <td>-0.296244</td>\n",
       "      <td>-0.302916</td>\n",
       "      <td>-0.119034</td>\n",
       "      <td>0.105623</td>\n",
       "      <td>-0.153277</td>\n",
       "      <td>0.125396</td>\n",
       "      <td>0.013191</td>\n",
       "    </tr>\n",
       "    <tr>\n",
       "      <th>total_rooms</th>\n",
       "      <td>0.044568</td>\n",
       "      <td>-0.036100</td>\n",
       "      <td>-0.361262</td>\n",
       "      <td>1.000000</td>\n",
       "      <td>0.920196</td>\n",
       "      <td>0.857126</td>\n",
       "      <td>0.918484</td>\n",
       "      <td>0.198050</td>\n",
       "      <td>0.134153</td>\n",
       "      <td>0.133798</td>\n",
       "      <td>-0.174583</td>\n",
       "      <td>-0.024581</td>\n",
       "    </tr>\n",
       "    <tr>\n",
       "      <th>total_bedrooms</th>\n",
       "      <td>0.068082</td>\n",
       "      <td>-0.065318</td>\n",
       "      <td>-0.317063</td>\n",
       "      <td>0.920196</td>\n",
       "      <td>1.000000</td>\n",
       "      <td>0.866266</td>\n",
       "      <td>0.966507</td>\n",
       "      <td>-0.007295</td>\n",
       "      <td>0.049148</td>\n",
       "      <td>0.002717</td>\n",
       "      <td>0.122205</td>\n",
       "      <td>-0.028019</td>\n",
       "    </tr>\n",
       "    <tr>\n",
       "      <th>population</th>\n",
       "      <td>0.099773</td>\n",
       "      <td>-0.108785</td>\n",
       "      <td>-0.296244</td>\n",
       "      <td>0.857126</td>\n",
       "      <td>0.866266</td>\n",
       "      <td>1.000000</td>\n",
       "      <td>0.907222</td>\n",
       "      <td>0.004834</td>\n",
       "      <td>-0.024650</td>\n",
       "      <td>-0.072213</td>\n",
       "      <td>0.031397</td>\n",
       "      <td>0.069863</td>\n",
       "    </tr>\n",
       "    <tr>\n",
       "      <th>households</th>\n",
       "      <td>0.055310</td>\n",
       "      <td>-0.071035</td>\n",
       "      <td>-0.302916</td>\n",
       "      <td>0.918484</td>\n",
       "      <td>0.966507</td>\n",
       "      <td>0.907222</td>\n",
       "      <td>1.000000</td>\n",
       "      <td>0.013033</td>\n",
       "      <td>0.065843</td>\n",
       "      <td>-0.080598</td>\n",
       "      <td>0.059818</td>\n",
       "      <td>-0.027309</td>\n",
       "    </tr>\n",
       "    <tr>\n",
       "      <th>median_income</th>\n",
       "      <td>-0.015176</td>\n",
       "      <td>-0.079809</td>\n",
       "      <td>-0.119034</td>\n",
       "      <td>0.198050</td>\n",
       "      <td>-0.007295</td>\n",
       "      <td>0.004834</td>\n",
       "      <td>0.013033</td>\n",
       "      <td>1.000000</td>\n",
       "      <td>0.688075</td>\n",
       "      <td>0.326895</td>\n",
       "      <td>-0.573836</td>\n",
       "      <td>0.018766</td>\n",
       "    </tr>\n",
       "    <tr>\n",
       "      <th>median_house_value</th>\n",
       "      <td>-0.045967</td>\n",
       "      <td>-0.144160</td>\n",
       "      <td>0.105623</td>\n",
       "      <td>0.134153</td>\n",
       "      <td>0.049148</td>\n",
       "      <td>-0.024650</td>\n",
       "      <td>0.065843</td>\n",
       "      <td>0.688075</td>\n",
       "      <td>1.000000</td>\n",
       "      <td>0.151948</td>\n",
       "      <td>-0.238759</td>\n",
       "      <td>-0.023737</td>\n",
       "    </tr>\n",
       "    <tr>\n",
       "      <th>rooms_per_household</th>\n",
       "      <td>-0.027540</td>\n",
       "      <td>0.106389</td>\n",
       "      <td>-0.153277</td>\n",
       "      <td>0.133798</td>\n",
       "      <td>0.002717</td>\n",
       "      <td>-0.072213</td>\n",
       "      <td>-0.080598</td>\n",
       "      <td>0.326895</td>\n",
       "      <td>0.151948</td>\n",
       "      <td>1.000000</td>\n",
       "      <td>-0.387465</td>\n",
       "      <td>-0.004852</td>\n",
       "    </tr>\n",
       "    <tr>\n",
       "      <th>bedrooms_per_room</th>\n",
       "      <td>0.084836</td>\n",
       "      <td>-0.104112</td>\n",
       "      <td>0.125396</td>\n",
       "      <td>-0.174583</td>\n",
       "      <td>0.122205</td>\n",
       "      <td>0.031397</td>\n",
       "      <td>0.059818</td>\n",
       "      <td>-0.573836</td>\n",
       "      <td>-0.238759</td>\n",
       "      <td>-0.387465</td>\n",
       "      <td>1.000000</td>\n",
       "      <td>0.003047</td>\n",
       "    </tr>\n",
       "    <tr>\n",
       "      <th>population_per_household</th>\n",
       "      <td>0.002476</td>\n",
       "      <td>0.002366</td>\n",
       "      <td>0.013191</td>\n",
       "      <td>-0.024581</td>\n",
       "      <td>-0.028019</td>\n",
       "      <td>0.069863</td>\n",
       "      <td>-0.027309</td>\n",
       "      <td>0.018766</td>\n",
       "      <td>-0.023737</td>\n",
       "      <td>-0.004852</td>\n",
       "      <td>0.003047</td>\n",
       "      <td>1.000000</td>\n",
       "    </tr>\n",
       "  </tbody>\n",
       "</table>\n",
       "</div>"
      ],
      "text/plain": [
       "                          longitude  latitude  housing_median_age  \\\n",
       "longitude                  1.000000 -0.924664           -0.108197   \n",
       "latitude                  -0.924664  1.000000            0.011173   \n",
       "housing_median_age        -0.108197  0.011173            1.000000   \n",
       "total_rooms                0.044568 -0.036100           -0.361262   \n",
       "total_bedrooms             0.068082 -0.065318           -0.317063   \n",
       "population                 0.099773 -0.108785           -0.296244   \n",
       "households                 0.055310 -0.071035           -0.302916   \n",
       "median_income             -0.015176 -0.079809           -0.119034   \n",
       "median_house_value        -0.045967 -0.144160            0.105623   \n",
       "rooms_per_household       -0.027540  0.106389           -0.153277   \n",
       "bedrooms_per_room          0.084836 -0.104112            0.125396   \n",
       "population_per_household   0.002476  0.002366            0.013191   \n",
       "\n",
       "                          total_rooms  total_bedrooms  population  households  \\\n",
       "longitude                    0.044568        0.068082    0.099773    0.055310   \n",
       "latitude                    -0.036100       -0.065318   -0.108785   -0.071035   \n",
       "housing_median_age          -0.361262       -0.317063   -0.296244   -0.302916   \n",
       "total_rooms                  1.000000        0.920196    0.857126    0.918484   \n",
       "total_bedrooms               0.920196        1.000000    0.866266    0.966507   \n",
       "population                   0.857126        0.866266    1.000000    0.907222   \n",
       "households                   0.918484        0.966507    0.907222    1.000000   \n",
       "median_income                0.198050       -0.007295    0.004834    0.013033   \n",
       "median_house_value           0.134153        0.049148   -0.024650    0.065843   \n",
       "rooms_per_household          0.133798        0.002717   -0.072213   -0.080598   \n",
       "bedrooms_per_room           -0.174583        0.122205    0.031397    0.059818   \n",
       "population_per_household    -0.024581       -0.028019    0.069863   -0.027309   \n",
       "\n",
       "                          median_income  median_house_value  \\\n",
       "longitude                     -0.015176           -0.045967   \n",
       "latitude                      -0.079809           -0.144160   \n",
       "housing_median_age            -0.119034            0.105623   \n",
       "total_rooms                    0.198050            0.134153   \n",
       "total_bedrooms                -0.007295            0.049148   \n",
       "population                     0.004834           -0.024650   \n",
       "households                     0.013033            0.065843   \n",
       "median_income                  1.000000            0.688075   \n",
       "median_house_value             0.688075            1.000000   \n",
       "rooms_per_household            0.326895            0.151948   \n",
       "bedrooms_per_room             -0.573836           -0.238759   \n",
       "population_per_household       0.018766           -0.023737   \n",
       "\n",
       "                          rooms_per_household  bedrooms_per_room  \\\n",
       "longitude                           -0.027540           0.084836   \n",
       "latitude                             0.106389          -0.104112   \n",
       "housing_median_age                  -0.153277           0.125396   \n",
       "total_rooms                          0.133798          -0.174583   \n",
       "total_bedrooms                       0.002717           0.122205   \n",
       "population                          -0.072213           0.031397   \n",
       "households                          -0.080598           0.059818   \n",
       "median_income                        0.326895          -0.573836   \n",
       "median_house_value                   0.151948          -0.238759   \n",
       "rooms_per_household                  1.000000          -0.387465   \n",
       "bedrooms_per_room                   -0.387465           1.000000   \n",
       "population_per_household            -0.004852           0.003047   \n",
       "\n",
       "                          population_per_household  \n",
       "longitude                                 0.002476  \n",
       "latitude                                  0.002366  \n",
       "housing_median_age                        0.013191  \n",
       "total_rooms                              -0.024581  \n",
       "total_bedrooms                           -0.028019  \n",
       "population                                0.069863  \n",
       "households                               -0.027309  \n",
       "median_income                             0.018766  \n",
       "median_house_value                       -0.023737  \n",
       "rooms_per_household                      -0.004852  \n",
       "bedrooms_per_room                         0.003047  \n",
       "population_per_household                  1.000000  "
      ]
     },
     "execution_count": 7,
     "metadata": {},
     "output_type": "execute_result"
    }
   ],
   "source": [
    "df.corr()\n",
    "# total_bedrooms and households"
   ]
  },
  {
   "cell_type": "code",
   "execution_count": 8,
   "metadata": {},
   "outputs": [
    {
     "data": {
      "image/png": "[encoded data removed]",
      "text/plain": [
       "<Figure size 864x432 with 2 Axes>"
      ]
     },
     "metadata": {
      "needs_background": "light"
     },
     "output_type": "display_data"
    }
   ],
   "source": [
    "fig, ax1 = plt.subplots(figsize=(12,6))\n",
    "ax1 = sns.heatmap(df.corr(), cbar=True, linewidths=2,vmax=1, vmin=0, square=False, cmap='Blues', annot=True, fmt=\".2g\")\n",
    "# ax = sns.heatmap(df.corr())\n",
    "plt.show()"
   ]
  },
  {
   "cell_type": "markdown",
   "metadata": {},
   "source": [
    "### Make `median_house_value` binary\n",
    "\n",
    "* We need to turn the `median_house_value` variable from numeric into binary.\n",
    "* Let's create a variable `above_average` which is `1` if the `median_house_value` is above its mean value and `0` otherwise."
   ]
  },
  {
   "cell_type": "code",
   "execution_count": 9,
   "metadata": {},
   "outputs": [
    {
     "name": "stdout",
     "output_type": "stream",
     "text": [
      "MEAN VALUE ('median_house_value'): 206855.82\n"
     ]
    },
    {
     "data": {
      "image/png": "[encoded data removed]",
      "text/plain": [
       "<Figure size 432x288 with 1 Axes>"
      ]
     },
     "metadata": {
      "needs_background": "light"
     },
     "output_type": "display_data"
    }
   ],
   "source": [
    "sns.histplot(df['median_house_value'], bins=50);\n",
    "print(f\"MEAN VALUE ('median_house_value'): {round(df['median_house_value'].mean(),2)}\")"
   ]
  },
  {
   "cell_type": "code",
   "execution_count": 10,
   "metadata": {},
   "outputs": [
    {
     "data": {
      "image/png": "[encoded data removed]",
      "text/plain": [
       "<Figure size 432x288 with 1 Axes>"
      ]
     },
     "metadata": {
      "needs_background": "light"
     },
     "output_type": "display_data"
    }
   ],
   "source": [
    "df['above_average'] = (df['median_house_value'] > df['median_house_value'].mean()).astype(int)\n",
    "sns.histplot(df['above_average'], bins=10);"
   ]
  },
  {
   "cell_type": "markdown",
   "metadata": {},
   "source": [
    "### Split the data\n",
    "\n",
    "* Split your data in train/val/test sets, with 60%/20%/20% distribution.\n",
    "* Use Scikit-Learn for that (the `train_test_split` function) and set the seed to 42.\n",
    "* Make sure that the target value (`median_house_value`) is not in your dataframe.\n"
   ]
  },
  {
   "cell_type": "code",
   "execution_count": 11,
   "metadata": {},
   "outputs": [],
   "source": [
    "df = df.drop(columns=['median_house_value'])"
   ]
  },
  {
   "cell_type": "code",
   "execution_count": 15,
   "metadata": {},
   "outputs": [
    {
     "data": {
      "text/html": [
       "<div>\n",
       "<style scoped>\n",
       "    .dataframe tbody tr th:only-of-type {\n",
       "        vertical-align: middle;\n",
       "    }\n",
       "\n",
       "    .dataframe tbody tr th {\n",
       "        vertical-align: top;\n",
       "    }\n",
       "\n",
       "    .dataframe thead th {\n",
       "        text-align: right;\n",
       "    }\n",
       "</style>\n",
       "<table border=\"1\" class=\"dataframe\">\n",
       "  <thead>\n",
       "    <tr style=\"text-align: right;\">\n",
       "      <th></th>\n",
       "      <th>longitude</th>\n",
       "      <th>latitude</th>\n",
       "      <th>housing_median_age</th>\n",
       "      <th>total_rooms</th>\n",
       "      <th>total_bedrooms</th>\n",
       "      <th>population</th>\n",
       "      <th>households</th>\n",
       "      <th>median_income</th>\n",
       "      <th>ocean_proximity</th>\n",
       "      <th>rooms_per_household</th>\n",
       "      <th>bedrooms_per_room</th>\n",
       "      <th>population_per_household</th>\n",
       "    </tr>\n",
       "  </thead>\n",
       "  <tbody>\n",
       "    <tr>\n",
       "      <th>17244</th>\n",
       "      <td>-119.67</td>\n",
       "      <td>34.43</td>\n",
       "      <td>39.0</td>\n",
       "      <td>1467.0</td>\n",
       "      <td>381.0</td>\n",
       "      <td>1404.0</td>\n",
       "      <td>374.0</td>\n",
       "      <td>2.3681</td>\n",
       "      <td>&lt;1H OCEAN</td>\n",
       "      <td>3.922460</td>\n",
       "      <td>0.259714</td>\n",
       "      <td>3.754011</td>\n",
       "    </tr>\n",
       "    <tr>\n",
       "      <th>8817</th>\n",
       "      <td>-118.32</td>\n",
       "      <td>33.74</td>\n",
       "      <td>24.0</td>\n",
       "      <td>6097.0</td>\n",
       "      <td>794.0</td>\n",
       "      <td>2248.0</td>\n",
       "      <td>806.0</td>\n",
       "      <td>10.1357</td>\n",
       "      <td>NEAR OCEAN</td>\n",
       "      <td>7.564516</td>\n",
       "      <td>0.130228</td>\n",
       "      <td>2.789082</td>\n",
       "    </tr>\n",
       "    <tr>\n",
       "      <th>19686</th>\n",
       "      <td>-121.62</td>\n",
       "      <td>39.13</td>\n",
       "      <td>41.0</td>\n",
       "      <td>1317.0</td>\n",
       "      <td>309.0</td>\n",
       "      <td>856.0</td>\n",
       "      <td>337.0</td>\n",
       "      <td>1.6719</td>\n",
       "      <td>INLAND</td>\n",
       "      <td>3.908012</td>\n",
       "      <td>0.234624</td>\n",
       "      <td>2.540059</td>\n",
       "    </tr>\n",
       "    <tr>\n",
       "      <th>3545</th>\n",
       "      <td>-118.63</td>\n",
       "      <td>34.24</td>\n",
       "      <td>9.0</td>\n",
       "      <td>4759.0</td>\n",
       "      <td>924.0</td>\n",
       "      <td>1884.0</td>\n",
       "      <td>915.0</td>\n",
       "      <td>4.8333</td>\n",
       "      <td>&lt;1H OCEAN</td>\n",
       "      <td>5.201093</td>\n",
       "      <td>0.194158</td>\n",
       "      <td>2.059016</td>\n",
       "    </tr>\n",
       "    <tr>\n",
       "      <th>17019</th>\n",
       "      <td>-122.30</td>\n",
       "      <td>37.52</td>\n",
       "      <td>38.0</td>\n",
       "      <td>2769.0</td>\n",
       "      <td>387.0</td>\n",
       "      <td>994.0</td>\n",
       "      <td>395.0</td>\n",
       "      <td>5.5902</td>\n",
       "      <td>NEAR OCEAN</td>\n",
       "      <td>7.010127</td>\n",
       "      <td>0.139762</td>\n",
       "      <td>2.516456</td>\n",
       "    </tr>\n",
       "  </tbody>\n",
       "</table>\n",
       "</div>"
      ],
      "text/plain": [
       "       longitude  latitude  housing_median_age  total_rooms  total_bedrooms  \\\n",
       "17244    -119.67     34.43                39.0       1467.0           381.0   \n",
       "8817     -118.32     33.74                24.0       6097.0           794.0   \n",
       "19686    -121.62     39.13                41.0       1317.0           309.0   \n",
       "3545     -118.63     34.24                 9.0       4759.0           924.0   \n",
       "17019    -122.30     37.52                38.0       2769.0           387.0   \n",
       "\n",
       "       population  households  median_income ocean_proximity  \\\n",
       "17244      1404.0       374.0         2.3681       <1H OCEAN   \n",
       "8817       2248.0       806.0        10.1357      NEAR OCEAN   \n",
       "19686       856.0       337.0         1.6719          INLAND   \n",
       "3545       1884.0       915.0         4.8333       <1H OCEAN   \n",
       "17019       994.0       395.0         5.5902      NEAR OCEAN   \n",
       "\n",
       "       rooms_per_household  bedrooms_per_room  population_per_household  \n",
       "17244             3.922460           0.259714                  3.754011  \n",
       "8817              7.564516           0.130228                  2.789082  \n",
       "19686             3.908012           0.234624                  2.540059  \n",
       "3545              5.201093           0.194158                  2.059016  \n",
       "17019             7.010127           0.139762                  2.516456  "
      ]
     },
     "execution_count": 15,
     "metadata": {},
     "output_type": "execute_result"
    }
   ],
   "source": [
    "df_train_full, df_test = train_test_split(df, test_size=0.2, random_state=42)\n",
    "df_train, df_val = train_test_split(df_train_full, test_size=0.25, random_state=42)\n",
    "\n",
    "y_train = df_train['above_average']\n",
    "y_val = df_val['above_average']\n",
    "y_test = df_test['above_average']\n",
    "df_train = df_train.drop(columns=['above_average'])\n",
    "df_val = df_val.drop(columns=['above_average'])\n",
    "df_test = df_test.drop(columns=['above_average'])\n",
    "df_train.head()"
   ]
  },
  {
   "cell_type": "markdown",
   "metadata": {},
   "source": [
    "### Question 3\n",
    "\n",
    "* Calculate the mutual information score with the (binarized) price for the categorical variable that we have. Use the training set only.\n",
    "* What is the value of mutual information?\n",
    "* Round it to 2 decimal digits using `round(score, 2)`\n",
    "\n",
    "Options:\n",
    "- 0.26\n",
    "- 0\n",
    "- 0.10\n",
    "- 0.16"
   ]
  },
  {
   "cell_type": "code",
   "execution_count": 27,
   "metadata": {},
   "outputs": [
    {
     "data": {
      "text/plain": [
       "2"
      ]
     },
     "execution_count": 27,
     "metadata": {},
     "output_type": "execute_result"
    }
   ],
   "source": [
    "y_train.mean()\n",
    "df_train_full['above_average'].nunique()"
   ]
  },
  {
   "cell_type": "code",
   "execution_count": 16,
   "metadata": {},
   "outputs": [],
   "source": [
    "from sklearn.metrics import mutual_info_score"
   ]
  },
  {
   "cell_type": "code",
   "execution_count": 24,
   "metadata": {},
   "outputs": [
    {
     "data": {
      "text/plain": [
       "ocean_proximity    5\n",
       "dtype: int64"
      ]
     },
     "execution_count": 24,
     "metadata": {},
     "output_type": "execute_result"
    }
   ],
   "source": [
    "categorical = ['ocean_proximity']\n",
    "\n",
    "df_train[categorical].nunique()"
   ]
  },
  {
   "cell_type": "code",
   "execution_count": 29,
   "metadata": {},
   "outputs": [
    {
     "data": {
      "text/html": [
       "<div>\n",
       "<style scoped>\n",
       "    .dataframe tbody tr th:only-of-type {\n",
       "        vertical-align: middle;\n",
       "    }\n",
       "\n",
       "    .dataframe tbody tr th {\n",
       "        vertical-align: top;\n",
       "    }\n",
       "\n",
       "    .dataframe thead th {\n",
       "        text-align: right;\n",
       "    }\n",
       "</style>\n",
       "<table border=\"1\" class=\"dataframe\">\n",
       "  <thead>\n",
       "    <tr style=\"text-align: right;\">\n",
       "      <th></th>\n",
       "      <th>mean</th>\n",
       "      <th>diff</th>\n",
       "      <th>rate</th>\n",
       "    </tr>\n",
       "    <tr>\n",
       "      <th>ocean_proximity</th>\n",
       "      <th></th>\n",
       "      <th></th>\n",
       "      <th></th>\n",
       "    </tr>\n",
       "  </thead>\n",
       "  <tbody>\n",
       "    <tr>\n",
       "      <th>&lt;1H OCEAN</th>\n",
       "      <td>0.533715</td>\n",
       "      <td>0.125951</td>\n",
       "      <td>1.308881</td>\n",
       "    </tr>\n",
       "    <tr>\n",
       "      <th>INLAND</th>\n",
       "      <td>0.102353</td>\n",
       "      <td>-0.305411</td>\n",
       "      <td>0.251011</td>\n",
       "    </tr>\n",
       "    <tr>\n",
       "      <th>ISLAND</th>\n",
       "      <td>1.000000</td>\n",
       "      <td>0.592236</td>\n",
       "      <td>2.452399</td>\n",
       "    </tr>\n",
       "    <tr>\n",
       "      <th>NEAR BAY</th>\n",
       "      <td>0.591154</td>\n",
       "      <td>0.183390</td>\n",
       "      <td>1.449746</td>\n",
       "    </tr>\n",
       "    <tr>\n",
       "      <th>NEAR OCEAN</th>\n",
       "      <td>0.565676</td>\n",
       "      <td>0.157912</td>\n",
       "      <td>1.387263</td>\n",
       "    </tr>\n",
       "  </tbody>\n",
       "</table>\n",
       "</div>"
      ],
      "text/plain": [
       "                     mean      diff      rate\n",
       "ocean_proximity                              \n",
       "<1H OCEAN        0.533715  0.125951  1.308881\n",
       "INLAND           0.102353 -0.305411  0.251011\n",
       "ISLAND           1.000000  0.592236  2.452399\n",
       "NEAR BAY         0.591154  0.183390  1.449746\n",
       "NEAR OCEAN       0.565676  0.157912  1.387263"
      ]
     },
     "metadata": {},
     "output_type": "display_data"
    }
   ],
   "source": [
    "from IPython.display import display \n",
    "global_mean = df_train_full['above_average'].mean()\n",
    "for col in categorical:         \n",
    "    df_group = df_train_full.groupby(by=col)['above_average'].agg(['mean'])  \n",
    "    df_group['diff'] = df_group['mean'] - global_mean\n",
    "    df_group['rate'] = df_group['mean'] / global_mean\n",
    "    display(df_group)    "
   ]
  },
  {
   "cell_type": "code",
   "execution_count": 34,
   "metadata": {},
   "outputs": [
    {
     "data": {
      "text/html": [
       "<div>\n",
       "<style scoped>\n",
       "    .dataframe tbody tr th:only-of-type {\n",
       "        vertical-align: middle;\n",
       "    }\n",
       "\n",
       "    .dataframe tbody tr th {\n",
       "        vertical-align: top;\n",
       "    }\n",
       "\n",
       "    .dataframe thead th {\n",
       "        text-align: right;\n",
       "    }\n",
       "</style>\n",
       "<table border=\"1\" class=\"dataframe\">\n",
       "  <thead>\n",
       "    <tr style=\"text-align: right;\">\n",
       "      <th></th>\n",
       "      <th>MI</th>\n",
       "    </tr>\n",
       "  </thead>\n",
       "  <tbody>\n",
       "    <tr>\n",
       "      <th>ocean_proximity</th>\n",
       "      <td>0.1</td>\n",
       "    </tr>\n",
       "  </tbody>\n",
       "</table>\n",
       "</div>"
      ],
      "text/plain": [
       "                  MI\n",
       "ocean_proximity  0.1"
      ]
     },
     "execution_count": 34,
     "metadata": {},
     "output_type": "execute_result"
    }
   ],
   "source": [
    "def calculate_mi(series):        \n",
    "    return mutual_info_score(series, df_train_full['above_average'])\n",
    "\n",
    "df_mi = df_train_full[categorical].apply(calculate_mi)   \n",
    "df_mi = df_mi.sort_values(ascending=False).to_frame(name='MI')   \n",
    "df_mi.round(2)"
   ]
  },
  {
   "cell_type": "markdown",
   "metadata": {},
   "source": [
    "### Question 4\n",
    "\n",
    "* Now let's train a logistic regression\n",
    "* Remember that we have one categorical variable `ocean_proximity` in the data. Include it using one-hot encoding.\n",
    "* Fit the model on the training dataset.\n",
    "    - To make sure the results are reproducible across different versions of Scikit-Learn, fit the model with these parameters:\n",
    "    - `model = LogisticRegression(solver=\"liblinear\", C=1.0, max_iter=1000, random_state=42)`\n",
    "* Calculate the accuracy on the validation dataset and round it to 2 decimal digits.\n",
    "\n",
    "Options:\n",
    "- 0.60\n",
    "- 0.72\n",
    "- 0.84\n",
    "- 0.95"
   ]
  },
  {
   "cell_type": "code",
   "execution_count": 37,
   "metadata": {},
   "outputs": [],
   "source": [
    "train_dict = df_train.to_dict(orient='records')\n",
    "from sklearn.feature_extraction import DictVectorizer\n",
    "\n",
    "dv = DictVectorizer(sparse=False)\n",
    "dv.fit(train_dict)\n",
    "X_train = dv.transform(train_dict)\n"
   ]
  },
  {
   "cell_type": "code",
   "execution_count": 51,
   "metadata": {},
   "outputs": [
    {
     "data": {
      "text/html": [
       "<div>\n",
       "<style scoped>\n",
       "    .dataframe tbody tr th:only-of-type {\n",
       "        vertical-align: middle;\n",
       "    }\n",
       "\n",
       "    .dataframe tbody tr th {\n",
       "        vertical-align: top;\n",
       "    }\n",
       "\n",
       "    .dataframe thead th {\n",
       "        text-align: right;\n",
       "    }\n",
       "</style>\n",
       "<table border=\"1\" class=\"dataframe\">\n",
       "  <thead>\n",
       "    <tr style=\"text-align: right;\">\n",
       "      <th></th>\n",
       "      <th>longitude</th>\n",
       "      <th>latitude</th>\n",
       "      <th>housing_median_age</th>\n",
       "      <th>total_rooms</th>\n",
       "      <th>total_bedrooms</th>\n",
       "      <th>population</th>\n",
       "      <th>households</th>\n",
       "      <th>median_income</th>\n",
       "      <th>ocean_proximity</th>\n",
       "      <th>rooms_per_household</th>\n",
       "      <th>bedrooms_per_room</th>\n",
       "      <th>population_per_household</th>\n",
       "    </tr>\n",
       "  </thead>\n",
       "  <tbody>\n",
       "    <tr>\n",
       "      <th>17244</th>\n",
       "      <td>-119.67</td>\n",
       "      <td>34.43</td>\n",
       "      <td>39.0</td>\n",
       "      <td>1467.0</td>\n",
       "      <td>381.0</td>\n",
       "      <td>1404.0</td>\n",
       "      <td>374.0</td>\n",
       "      <td>2.3681</td>\n",
       "      <td>&lt;1H OCEAN</td>\n",
       "      <td>3.92246</td>\n",
       "      <td>0.259714</td>\n",
       "      <td>3.754011</td>\n",
       "    </tr>\n",
       "  </tbody>\n",
       "</table>\n",
       "</div>"
      ],
      "text/plain": [
       "       longitude  latitude  housing_median_age  total_rooms  total_bedrooms  \\\n",
       "17244    -119.67     34.43                39.0       1467.0           381.0   \n",
       "\n",
       "       population  households  median_income ocean_proximity  \\\n",
       "17244      1404.0       374.0         2.3681       <1H OCEAN   \n",
       "\n",
       "       rooms_per_household  bedrooms_per_room  population_per_household  \n",
       "17244              3.92246           0.259714                  3.754011  "
      ]
     },
     "execution_count": 51,
     "metadata": {},
     "output_type": "execute_result"
    }
   ],
   "source": [
    "df_train.head(1)"
   ]
  },
  {
   "cell_type": "code",
   "execution_count": 52,
   "metadata": {},
   "outputs": [
    {
     "data": {
      "text/plain": [
       "array([ 2.59713701e-01,  3.74000000e+02,  3.90000000e+01,  3.44300000e+01,\n",
       "       -1.19670000e+02,  2.36810000e+00,  1.00000000e+00,  0.00000000e+00,\n",
       "        0.00000000e+00,  0.00000000e+00,  0.00000000e+00,  1.40400000e+03,\n",
       "        3.75401070e+00,  3.92245989e+00,  3.81000000e+02,  1.46700000e+03])"
      ]
     },
     "execution_count": 52,
     "metadata": {},
     "output_type": "execute_result"
    }
   ],
   "source": [
    "X_train[0]"
   ]
  },
  {
   "cell_type": "markdown",
   "metadata": {},
   "source": []
  },
  {
   "cell_type": "code",
   "execution_count": 48,
   "metadata": {},
   "outputs": [
    {
     "data": {
      "text/plain": [
       "['bedrooms_per_room',\n",
       " 'households',\n",
       " 'housing_median_age',\n",
       " 'latitude',\n",
       " 'longitude',\n",
       " 'median_income',\n",
       " 'ocean_proximity=<1H OCEAN',\n",
       " 'ocean_proximity=INLAND',\n",
       " 'ocean_proximity=ISLAND',\n",
       " 'ocean_proximity=NEAR BAY',\n",
       " 'ocean_proximity=NEAR OCEAN',\n",
       " 'population',\n",
       " 'population_per_household',\n",
       " 'rooms_per_household',\n",
       " 'total_bedrooms',\n",
       " 'total_rooms']"
      ]
     },
     "execution_count": 48,
     "metadata": {},
     "output_type": "execute_result"
    }
   ],
   "source": [
    "dv.get_feature_names_out().tolist()"
   ]
  },
  {
   "cell_type": "code",
   "execution_count": 55,
   "metadata": {},
   "outputs": [
    {
     "data": {
      "text/html": [
       "<style>#sk-container-id-2 {color: black;background-color: white;}#sk-container-id-2 pre{padding: 0;}#sk-container-id-2 div.sk-toggleable {background-color: white;}#sk-container-id-2 label.sk-toggleable__label {cursor: pointer;display: block;width: 100%;margin-bottom: 0;padding: 0.3em;box-sizing: border-box;text-align: center;}#sk-container-id-2 label.sk-toggleable__label-arrow:before {content: \"▸\";float: left;margin-right: 0.25em;color: #696969;}#sk-container-id-2 label.sk-toggleable__label-arrow:hover:before {color: black;}#sk-container-id-2 div.sk-estimator:hover label.sk-toggleable__label-arrow:before {color: black;}#sk-container-id-2 div.sk-toggleable__content {max-height: 0;max-width: 0;overflow: hidden;text-align: left;background-color: #f0f8ff;}#sk-container-id-2 div.sk-toggleable__content pre {margin: 0.2em;color: black;border-radius: 0.25em;background-color: #f0f8ff;}#sk-container-id-2 input.sk-toggleable__control:checked~div.sk-toggleable__content {max-height: 200px;max-width: 100%;overflow: auto;}#sk-container-id-2 input.sk-toggleable__control:checked~label.sk-toggleable__label-arrow:before {content: \"▾\";}#sk-container-id-2 div.sk-estimator input.sk-toggleable__control:checked~label.sk-toggleable__label {background-color: #d4ebff;}#sk-container-id-2 div.sk-label input.sk-toggleable__control:checked~label.sk-toggleable__label {background-color: #d4ebff;}#sk-container-id-2 input.sk-hidden--visually {border: 0;clip: rect(1px 1px 1px 1px);clip: rect(1px, 1px, 1px, 1px);height: 1px;margin: -1px;overflow: hidden;padding: 0;position: absolute;width: 1px;}#sk-container-id-2 div.sk-estimator {font-family: monospace;background-color: #f0f8ff;border: 1px dotted black;border-radius: 0.25em;box-sizing: border-box;margin-bottom: 0.5em;}#sk-container-id-2 div.sk-estimator:hover {background-color: #d4ebff;}#sk-container-id-2 div.sk-parallel-item::after {content: \"\";width: 100%;border-bottom: 1px solid gray;flex-grow: 1;}#sk-container-id-2 div.sk-label:hover label.sk-toggleable__label {background-color: #d4ebff;}#sk-container-id-2 div.sk-serial::before {content: \"\";position: absolute;border-left: 1px solid gray;box-sizing: border-box;top: 0;bottom: 0;left: 50%;z-index: 0;}#sk-container-id-2 div.sk-serial {display: flex;flex-direction: column;align-items: center;background-color: white;padding-right: 0.2em;padding-left: 0.2em;position: relative;}#sk-container-id-2 div.sk-item {position: relative;z-index: 1;}#sk-container-id-2 div.sk-parallel {display: flex;align-items: stretch;justify-content: center;background-color: white;position: relative;}#sk-container-id-2 div.sk-item::before, #sk-container-id-2 div.sk-parallel-item::before {content: \"\";position: absolute;border-left: 1px solid gray;box-sizing: border-box;top: 0;bottom: 0;left: 50%;z-index: -1;}#sk-container-id-2 div.sk-parallel-item {display: flex;flex-direction: column;z-index: 1;position: relative;background-color: white;}#sk-container-id-2 div.sk-parallel-item:first-child::after {align-self: flex-end;width: 50%;}#sk-container-id-2 div.sk-parallel-item:last-child::after {align-self: flex-start;width: 50%;}#sk-container-id-2 div.sk-parallel-item:only-child::after {width: 0;}#sk-container-id-2 div.sk-dashed-wrapped {border: 1px dashed gray;margin: 0 0.4em 0.5em 0.4em;box-sizing: border-box;padding-bottom: 0.4em;background-color: white;}#sk-container-id-2 div.sk-label label {font-family: monospace;font-weight: bold;display: inline-block;line-height: 1.2em;}#sk-container-id-2 div.sk-label-container {text-align: center;}#sk-container-id-2 div.sk-container {/* jupyter's `normalize.less` sets `[hidden] { display: none; }` but bootstrap.min.css set `[hidden] { display: none !important; }` so we also need the `!important` here to be able to override the default hidden behavior on the sphinx rendered scikit-learn.org. See: https://github.com/scikit-learn/scikit-learn/issues/21755 */display: inline-block !important;position: relative;}#sk-container-id-2 div.sk-text-repr-fallback {display: none;}</style><div id=\"sk-container-id-2\" class=\"sk-top-container\"><div class=\"sk-text-repr-fallback\"><pre>LogisticRegression(max_iter=1000, random_state=42, solver=&#x27;liblinear&#x27;)</pre><b>In a Jupyter environment, please rerun this cell to show the HTML representation or trust the notebook. <br />On GitHub, the HTML representation is unable to render, please try loading this page with nbviewer.org.</b></div><div class=\"sk-container\" hidden><div class=\"sk-item\"><div class=\"sk-estimator sk-toggleable\"><input class=\"sk-toggleable__control sk-hidden--visually\" id=\"sk-estimator-id-2\" type=\"checkbox\" checked><label for=\"sk-estimator-id-2\" class=\"sk-toggleable__label sk-toggleable__label-arrow\">LogisticRegression</label><div class=\"sk-toggleable__content\"><pre>LogisticRegression(max_iter=1000, random_state=42, solver=&#x27;liblinear&#x27;)</pre></div></div></div></div></div>"
      ],
      "text/plain": [
       "LogisticRegression(max_iter=1000, random_state=42, solver='liblinear')"
      ]
     },
     "execution_count": 55,
     "metadata": {},
     "output_type": "execute_result"
    }
   ],
   "source": [
    "from sklearn.linear_model import LogisticRegression\n",
    "model = LogisticRegression(solver=\"liblinear\", C=1.0, max_iter=1000, random_state=42)\n",
    "model.fit(X_train, y_train)"
   ]
  },
  {
   "cell_type": "code",
   "execution_count": 56,
   "metadata": {},
   "outputs": [],
   "source": [
    "val_dict = df_val.to_dict(orient='records')\n",
    "X_val = dv.transform(val_dict)"
   ]
  },
  {
   "cell_type": "code",
   "execution_count": 64,
   "metadata": {},
   "outputs": [
    {
     "data": {
      "text/plain": [
       "array([0.07847128, 0.16795741, 0.95304104, ..., 0.96103024, 0.85404741,\n",
       "       0.46588232])"
      ]
     },
     "execution_count": 64,
     "metadata": {},
     "output_type": "execute_result"
    }
   ],
   "source": [
    "y_pred = model.predict_proba(X_val)[:, 1]\n",
    "y_pred"
   ]
  },
  {
   "cell_type": "code",
   "execution_count": 67,
   "metadata": {},
   "outputs": [
    {
     "name": "stdout",
     "output_type": "stream",
     "text": [
      "0.84\n"
     ]
    }
   ],
   "source": [
    "above_average = y_pred > 0.5\n",
    "acc = (y_val == above_average).mean()\n",
    "print(round(acc, 2))"
   ]
  },
  {
   "cell_type": "markdown",
   "metadata": {},
   "source": [
    "### Question 5 \n",
    "\n",
    "* Let's find the least useful feature using the *feature elimination* technique.\n",
    "* Train a model with all these features (using the same parameters as in Q4).\n",
    "* Now exclude each feature from this set and train a model without it. Record the accuracy for each model.\n",
    "* For each feature, calculate the difference between the original accuracy and the accuracy without the feature. \n",
    "* Which of following feature has the smallest difference? \n",
    "   * `total_rooms`\n",
    "   * `total_bedrooms` \n",
    "   * `population`\n",
    "   * `households`\n",
    "\n",
    "> **note**: the difference doesn't have to be positive\n"
   ]
  },
  {
   "cell_type": "code",
   "execution_count": null,
   "metadata": {},
   "outputs": [],
   "source": []
  },
  {
   "cell_type": "markdown",
   "metadata": {},
   "source": [
    "### Question 6\n",
    "\n",
    "* For this question, we'll see how to use a linear regression model from Scikit-Learn\n",
    "* We'll need to use the original column `'median_house_value'`. Apply the logarithmic transformation to this column.\n",
    "* Fit the Ridge regression model (`model = Ridge(alpha=a, solver=\"sag\", random_state=42)`) on the training data.\n",
    "* This model has a parameter `alpha`. Let's try the following values: `[0, 0.01, 0.1, 1, 10]`\n",
    "* Which of these alphas leads to the best RMSE on the validation set? Round your RMSE scores to 3 decimal digits.\n",
    "\n",
    "If there are multiple options, select the smallest `alpha`.\n",
    "\n",
    "Options:\n",
    "- 0\n",
    "- 0.01\n",
    "- 0.1\n",
    "- 1\n",
    "- 10"
   ]
  },
  {
   "cell_type": "markdown",
   "metadata": {},
   "source": []
  }
 ],
 "metadata": {
  "kernelspec": {
   "display_name": "Python 3.9.13 ('ml-zoomcamp')",
   "language": "python",
   "name": "python3"
  },
  "language_info": {
   "codemirror_mode": {
    "name": "ipython",
    "version": 3
   },
   "file_extension": ".py",
   "mimetype": "text/x-python",
   "name": "python",
   "nbconvert_exporter": "python",
   "pygments_lexer": "ipython3",
   "version": "3.9.13"
  },
  "orig_nbformat": 4,
  "vscode": {
   "interpreter": {
    "hash": "00288e9bfbbbced4c5c25384ed2c190b8f5ed92fa09445ea9029a8245363a8e9"
   }
  }
 },
 "nbformat": 4,
 "nbformat_minor": 2
}
